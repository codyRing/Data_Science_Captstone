{
 "cells": [
  {
   "cell_type": "code",
   "execution_count": 45,
   "metadata": {},
   "outputs": [],
   "source": [
    "import numpy as np\n",
    "import pandas as pd\n",
    "import matplotlib.pyplot as plt\n",
    "from datetime import timezone, datetime\n",
    "import seaborn as sns\n",
    "from sklearn.linear_model import LinearRegression\n",
    "from sklearn import metrics\n",
    "from sklearn.model_selection import train_test_split\n",
    "from sklearn.linear_model import Lasso\n",
    "from yellowbrick.regressor import PredictionError\n",
    "import pytz\n",
    "from functools import reduce\n",
    "\n",
    "\n",
    "plt.style.use('fivethirtyeight')\n",
    "%matplotlib inline\n",
    "\n",
    "pac = pytz.timezone('America/Los_Angeles')\n",
    "utc = pytz.timezone('UTC')\n"
   ]
  },
  {
   "cell_type": "code",
   "execution_count": 33,
   "metadata": {},
   "outputs": [],
   "source": [
    "fre = './Data/Bike_Counts/Fremont_Bridge.csv'\n",
    "fremont = pd.read_csv(fre,parse_dates = [0],index_col='Date')\n",
    "\n",
    "fremont.rename(columns = {'Fremont Bridge East Sidewalk' : 'EastSide',\n",
    "                         'Fremont Bridge West Sidewalk':'WestSide',\n",
    "                         'Date':'Date_Join'} , inplace= True)\n",
    "\n",
    "\n",
    "fremont = fremont.tz_localize(pac,ambiguous = True, nonexistent = 'shift_forward')\n",
    "fremont_d = fremont.resample('D').sum()\n",
    "fremont_d.index.names = ['Date_Join']\n",
    "#fremont_d.head(10)"
   ]
  },
  {
   "cell_type": "code",
   "execution_count": 34,
   "metadata": {},
   "outputs": [],
   "source": [
    "path = \"./Data/Daily_Summaries/Daily_Summaries_Merged.csv\"\n",
    "d = \",\"\n",
    "wx = pd.read_csv(path,delimiter=d)\n",
    "wx.DATE = pd.to_datetime(wx.DATE)\n",
    "wx.rename(columns={'DATE':'Date_Join'},inplace = True)\n",
    "#wx.drop(['LATITUDE','LONGITUDE'],axis = 1,inplace=True);\n",
    "#wx.head()"
   ]
  },
  {
   "cell_type": "code",
   "execution_count": 35,
   "metadata": {},
   "outputs": [],
   "source": [
    "wx.loc[wx['STATION'] == 'USW00024233', 'NAME'] = 'SeaTac'\n",
    "wx.loc[wx['STATION'] == 'USW00024234', 'NAME'] = 'Boeing_Field'\n",
    "wx.loc[wx['STATION'] == 'US1WAKG0079', 'NAME'] = 'Magnolia'\n",
    "wx.loc[wx['STATION'] == 'US1WAKG0145', 'NAME'] = 'Phinney'\n",
    "wx.loc[wx['STATION'] == 'US1WAKG0200', 'NAME'] = 'Georgetown'\n",
    "wx.loc[wx['STATION'] == 'US1WAKG0199', 'NAME'] = 'GreenWood'\n",
    "wx.loc[wx['STATION'] == 'US1WAKG0225', 'NAME'] = 'Cap_Hill'\n",
    "wx.loc[wx['STATION'] == 'US1WAKG0239', 'NAME'] = 'Woodland_Park'\n"
   ]
  },
  {
   "cell_type": "code",
   "execution_count": 36,
   "metadata": {},
   "outputs": [],
   "source": [
    "wx_d = wx.groupby(by = 'Date_Join')[['PRCP','TMAX','TMIN']].mean()\n",
    "wx_d = wx_d.tz_localize(pac,ambiguous = True, nonexistent = 'shift_forward')\n",
    "#wx_d.head()"
   ]
  },
  {
   "cell_type": "code",
   "execution_count": 38,
   "metadata": {},
   "outputs": [
    {
     "data": {
      "text/html": [
       "<div>\n",
       "<style scoped>\n",
       "    .dataframe tbody tr th:only-of-type {\n",
       "        vertical-align: middle;\n",
       "    }\n",
       "\n",
       "    .dataframe tbody tr th {\n",
       "        vertical-align: top;\n",
       "    }\n",
       "\n",
       "    .dataframe thead th {\n",
       "        text-align: right;\n",
       "    }\n",
       "</style>\n",
       "<table border=\"1\" class=\"dataframe\">\n",
       "  <thead>\n",
       "    <tr style=\"text-align: right;\">\n",
       "      <th></th>\n",
       "      <th>EastSide</th>\n",
       "      <th>WestSide</th>\n",
       "      <th>PRCP</th>\n",
       "      <th>TMAX</th>\n",
       "      <th>TMIN</th>\n",
       "    </tr>\n",
       "    <tr>\n",
       "      <th>Date_Join</th>\n",
       "      <th></th>\n",
       "      <th></th>\n",
       "      <th></th>\n",
       "      <th></th>\n",
       "      <th></th>\n",
       "    </tr>\n",
       "  </thead>\n",
       "  <tbody>\n",
       "    <tr>\n",
       "      <th>2012-10-03 00:00:00-07:00</th>\n",
       "      <td>1760.0</td>\n",
       "      <td>1761.0</td>\n",
       "      <td>0.0</td>\n",
       "      <td>66.0</td>\n",
       "      <td>45.5</td>\n",
       "    </tr>\n",
       "    <tr>\n",
       "      <th>2012-10-04 00:00:00-07:00</th>\n",
       "      <td>1708.0</td>\n",
       "      <td>1767.0</td>\n",
       "      <td>0.0</td>\n",
       "      <td>65.5</td>\n",
       "      <td>47.0</td>\n",
       "    </tr>\n",
       "    <tr>\n",
       "      <th>2012-10-05 00:00:00-07:00</th>\n",
       "      <td>1558.0</td>\n",
       "      <td>1590.0</td>\n",
       "      <td>0.0</td>\n",
       "      <td>70.5</td>\n",
       "      <td>47.0</td>\n",
       "    </tr>\n",
       "    <tr>\n",
       "      <th>2012-10-06 00:00:00-07:00</th>\n",
       "      <td>1080.0</td>\n",
       "      <td>926.0</td>\n",
       "      <td>0.0</td>\n",
       "      <td>73.0</td>\n",
       "      <td>43.5</td>\n",
       "    </tr>\n",
       "    <tr>\n",
       "      <th>2012-10-07 00:00:00-07:00</th>\n",
       "      <td>1191.0</td>\n",
       "      <td>951.0</td>\n",
       "      <td>0.0</td>\n",
       "      <td>73.5</td>\n",
       "      <td>45.0</td>\n",
       "    </tr>\n",
       "  </tbody>\n",
       "</table>\n",
       "</div>"
      ],
      "text/plain": [
       "                           EastSide  WestSide  PRCP  TMAX  TMIN\n",
       "Date_Join                                                      \n",
       "2012-10-03 00:00:00-07:00    1760.0    1761.0   0.0  66.0  45.5\n",
       "2012-10-04 00:00:00-07:00    1708.0    1767.0   0.0  65.5  47.0\n",
       "2012-10-05 00:00:00-07:00    1558.0    1590.0   0.0  70.5  47.0\n",
       "2012-10-06 00:00:00-07:00    1080.0     926.0   0.0  73.0  43.5\n",
       "2012-10-07 00:00:00-07:00    1191.0     951.0   0.0  73.5  45.0"
      ]
     },
     "execution_count": 38,
     "metadata": {},
     "output_type": "execute_result"
    }
   ],
   "source": [
    "data = fremont_d.merge(wx_d, how = 'inner',left_on = 'Date_Join',right_on = 'Date_Join')\n",
    "data.head()"
   ]
  },
  {
   "cell_type": "code",
   "execution_count": 40,
   "metadata": {},
   "outputs": [],
   "source": [
    "features = ['PRCP','TMAX','TMIN']\n",
    "X = data[features]\n",
    "y = data['EastSide']\n",
    "X_train, X_test, y_train, y_test = train_test_split(X, y,random_state= 23)"
   ]
  },
  {
   "cell_type": "code",
   "execution_count": 41,
   "metadata": {},
   "outputs": [
    {
     "data": {
      "image/png": "[encoded data removed]",
      "text/plain": [
       "<Figure size 432x288 with 1 Axes>"
      ]
     },
     "metadata": {
      "needs_background": "light"
     },
     "output_type": "display_data"
    }
   ],
   "source": [
    "#fit the model\n",
    "lasso = Lasso()\n",
    "\n",
    "visualizer = PredictionError(lasso)\n",
    "linreg = LinearRegression(lasso)\n",
    "\n",
    "linreg.fit(X_train, y_train)\n",
    "visualizer.fit(X_train, y_train)\n",
    "\n",
    "y_pred = linreg.predict(X_test)\n",
    "\n",
    "\n",
    "\n",
    "visualizer.score(X_test, y_test)  # Evaluate the model on the test data\n",
    "g = visualizer.poof()             # Draw/show/poof the data\n"
   ]
  },
  {
   "cell_type": "code",
   "execution_count": 42,
   "metadata": {},
   "outputs": [
    {
     "name": "stdout",
     "output_type": "stream",
     "text": [
      "The coefficient for PRCP is -614.5493825208117\n",
      "The coefficient for TMAX is 34.28100855445099\n",
      "The coefficient for TMIN is -8.768459438659118\n",
      "R-squared =  0.4453176961625634\n",
      "RMSE =  444.28122328637346\n"
     ]
    }
   ],
   "source": [
    "\n",
    "for idx, col_name in enumerate(X_train.columns):\n",
    "    print(\"The coefficient for {} is {}\".format(col_name, linreg.coef_[idx]))\n",
    "\n",
    "#list(zip(features, linreg.coef_))\n",
    "print(\"R-squared = \", linreg.score(X_test, y_test))  \n",
    "\n",
    "print(\"RMSE = \",np.sqrt(metrics.mean_squared_error(y_test, y_pred)))"
   ]
  },
  {
   "cell_type": "code",
   "execution_count": 43,
   "metadata": {},
   "outputs": [],
   "source": [
    "#set index\n",
    "y_pred= pd.DataFrame(y_pred,index=X_test.index)\n",
    "y_pred.rename(columns={y_pred.columns[0]:'Predicted_East'}, inplace=True)\n",
    "\n",
    "y_test= pd.DataFrame(y_test,index=X_test.index)\n",
    "y_test.rename(columns={y_test.columns[0]:'Actual_East'}, inplace=True)"
   ]
  },
  {
   "cell_type": "code",
   "execution_count": 47,
   "metadata": {},
   "outputs": [
    {
     "data": {
      "text/html": [
       "<div>\n",
       "<style scoped>\n",
       "    .dataframe tbody tr th:only-of-type {\n",
       "        vertical-align: middle;\n",
       "    }\n",
       "\n",
       "    .dataframe tbody tr th {\n",
       "        vertical-align: top;\n",
       "    }\n",
       "\n",
       "    .dataframe thead th {\n",
       "        text-align: right;\n",
       "    }\n",
       "</style>\n",
       "<table border=\"1\" class=\"dataframe\">\n",
       "  <thead>\n",
       "    <tr style=\"text-align: right;\">\n",
       "      <th></th>\n",
       "      <th>PRCP</th>\n",
       "      <th>TMAX</th>\n",
       "      <th>TMIN</th>\n",
       "      <th>Actual_East</th>\n",
       "      <th>Predicted_East</th>\n",
       "      <th>DIF</th>\n",
       "    </tr>\n",
       "    <tr>\n",
       "      <th>Date_Join</th>\n",
       "      <th></th>\n",
       "      <th></th>\n",
       "      <th></th>\n",
       "      <th></th>\n",
       "      <th></th>\n",
       "      <th></th>\n",
       "    </tr>\n",
       "  </thead>\n",
       "  <tbody>\n",
       "    <tr>\n",
       "      <th>2014-05-16 00:00:00-07:00</th>\n",
       "      <td>0.0</td>\n",
       "      <td>68.5</td>\n",
       "      <td>54.0</td>\n",
       "      <td>3143.0</td>\n",
       "      <td>1495.097272</td>\n",
       "      <td>1647.902728</td>\n",
       "    </tr>\n",
       "    <tr>\n",
       "      <th>2016-08-20 00:00:00-07:00</th>\n",
       "      <td>0.0</td>\n",
       "      <td>91.0</td>\n",
       "      <td>62.0</td>\n",
       "      <td>942.0</td>\n",
       "      <td>2196.272289</td>\n",
       "      <td>1254.272289</td>\n",
       "    </tr>\n",
       "    <tr>\n",
       "      <th>2016-08-13 00:00:00-07:00</th>\n",
       "      <td>0.0</td>\n",
       "      <td>90.5</td>\n",
       "      <td>64.5</td>\n",
       "      <td>947.0</td>\n",
       "      <td>2157.210636</td>\n",
       "      <td>1210.210636</td>\n",
       "    </tr>\n",
       "    <tr>\n",
       "      <th>2015-07-05 00:00:00-07:00</th>\n",
       "      <td>0.0</td>\n",
       "      <td>91.0</td>\n",
       "      <td>64.5</td>\n",
       "      <td>1008.0</td>\n",
       "      <td>2174.351140</td>\n",
       "      <td>1166.351140</td>\n",
       "    </tr>\n",
       "    <tr>\n",
       "      <th>2013-05-01 00:00:00-07:00</th>\n",
       "      <td>0.0</td>\n",
       "      <td>64.5</td>\n",
       "      <td>38.0</td>\n",
       "      <td>2615.0</td>\n",
       "      <td>1498.268589</td>\n",
       "      <td>1116.731411</td>\n",
       "    </tr>\n",
       "  </tbody>\n",
       "</table>\n",
       "</div>"
      ],
      "text/plain": [
       "                           PRCP  TMAX  TMIN  Actual_East  Predicted_East  \\\n",
       "Date_Join                                                                  \n",
       "2014-05-16 00:00:00-07:00   0.0  68.5  54.0       3143.0     1495.097272   \n",
       "2016-08-20 00:00:00-07:00   0.0  91.0  62.0        942.0     2196.272289   \n",
       "2016-08-13 00:00:00-07:00   0.0  90.5  64.5        947.0     2157.210636   \n",
       "2015-07-05 00:00:00-07:00   0.0  91.0  64.5       1008.0     2174.351140   \n",
       "2013-05-01 00:00:00-07:00   0.0  64.5  38.0       2615.0     1498.268589   \n",
       "\n",
       "                                   DIF  \n",
       "Date_Join                               \n",
       "2014-05-16 00:00:00-07:00  1647.902728  \n",
       "2016-08-20 00:00:00-07:00  1254.272289  \n",
       "2016-08-13 00:00:00-07:00  1210.210636  \n",
       "2015-07-05 00:00:00-07:00  1166.351140  \n",
       "2013-05-01 00:00:00-07:00  1116.731411  "
      ]
     },
     "execution_count": 47,
     "metadata": {},
     "output_type": "execute_result"
    }
   ],
   "source": [
    "dfs = (X_test,y_test,y_pred)\n",
    "\n",
    "results = reduce(lambda left,right: pd.merge(left,right,on = 'Date_Join'),dfs)\n",
    "results['DIF'] = abs(results['Actual_East'] - results['Predicted_East'])\n",
    "\n",
    "#X_test.head()\n",
    "#y_pred\n",
    "#y_test\n",
    "results.sort_values(by = 'DIF',ascending= False).head()"
   ]
  },
  {
   "cell_type": "code",
   "execution_count": null,
   "metadata": {},
   "outputs": [],
   "source": []
  }
 ],
 "metadata": {
  "kernelspec": {
   "display_name": "Python 3",
   "language": "python",
   "name": "python3"
  },
  "language_info": {
   "codemirror_mode": {
    "name": "ipython",
    "version": 3
   },
   "file_extension": ".py",
   "mimetype": "text/x-python",
   "name": "python",
   "nbconvert_exporter": "python",
   "pygments_lexer": "ipython3",
   "version": "3.7.3"
  }
 },
 "nbformat": 4,
 "nbformat_minor": 2
}

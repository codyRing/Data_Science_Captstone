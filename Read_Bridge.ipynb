{
 "cells": [
  {
   "cell_type": "markdown",
   "metadata": {},
   "source": [
    "<a id='statsmodels-regression'></a>\n",
    "## Fitting a Linear Regression Using `statsmodels`\n",
    "\n",
    "---\n",
    "\n",
    "Now we will fit the linear regression model predicting the target from the titanic dataset, but this time using `statsmodels`.\n",
    "\n",
    "The format looks like:\n",
    "\n",
    "```python\n",
    "import statsmodels.api as sm\n",
    "\n",
    "X = df[[\"FACTOR1\",\"FACTOR2\"]].values\n",
    "# manually add the intercept column:\n",
    "X = np.concatenate([X, np.ones((X.shape[0], 1))], axis=1)\n",
    "y = target\n",
    "\n",
    "model = sm.OLS(y, X)\n",
    "model = model.fit()\n",
    "predictions = model.predict()\n",
    "```\n",
    "\n",
    "First we load the statsmodels api module, which contains the ordinary least squares `OLS` model class. The statsmodels process is slightly different:\n",
    "- We manually make a new column for the intercept in our design matrix $X$.\n",
    "- The $y$ target variable comes before the $X$ predictor\n",
    "- The data is provided during the instantiation of the model object, then fit is called without the data.\n",
    "\n",
    "**Fit the model using statsmodels.**"
   ]
  },
  {
   "cell_type": "code",
   "execution_count": 1,
   "metadata": {},
   "outputs": [],
   "source": [
    "import numpy as np\n",
    "import pandas as pd\n",
    "import matplotlib.pyplot as plt\n",
    "#import os\n",
    "#from dateutil.tz import tzutc\n",
    "#from dateutil.parser import parse\n",
    "from datetime import timezone, datetime\n",
    "import pytz\n",
    "plt.style.use('fivethirtyeight')\n",
    "%matplotlib inline\n",
    "\n",
    "pac = pytz.timezone('America/Los_Angeles')\n",
    "utc = pytz.timezone('UTC')\n"
   ]
  },
  {
   "cell_type": "code",
   "execution_count": 7,
   "metadata": {
    "scrolled": true
   },
   "outputs": [],
   "source": [
    "fre = './Data/Bike_Counts/Fremont_Bridge.csv'\n",
    "fremont = pd.read_csv(fre,parse_dates = [0],index_col='Date')\n",
    "\n",
    "fremont.rename(columns = {'Fremont Bridge East Sidewalk' : 'EastSide',\n",
    "                         'Fremont Bridge West Sidewalk':'WestSide',\n",
    "                         'Date':'Date_Join'} , inplace= True)\n",
    "\n",
    "\n",
    "fremont = fremont.tz_localize(pac,ambiguous = True, nonexistent = 'shift_forward')\n",
    "fremont_d = fremont.resample('D').sum()\n",
    "#fremont.head(10)"
   ]
  },
  {
   "cell_type": "code",
   "execution_count": 6,
   "metadata": {},
   "outputs": [
    {
     "data": {
      "text/html": [
       "<div>\n",
       "<style scoped>\n",
       "    .dataframe tbody tr th:only-of-type {\n",
       "        vertical-align: middle;\n",
       "    }\n",
       "\n",
       "    .dataframe tbody tr th {\n",
       "        vertical-align: top;\n",
       "    }\n",
       "\n",
       "    .dataframe thead th {\n",
       "        text-align: right;\n",
       "    }\n",
       "</style>\n",
       "<table border=\"1\" class=\"dataframe\">\n",
       "  <thead>\n",
       "    <tr style=\"text-align: right;\">\n",
       "      <th></th>\n",
       "      <th>EastSide</th>\n",
       "      <th>WestSide</th>\n",
       "    </tr>\n",
       "    <tr>\n",
       "      <th>Date</th>\n",
       "      <th></th>\n",
       "      <th></th>\n",
       "    </tr>\n",
       "  </thead>\n",
       "  <tbody>\n",
       "    <tr>\n",
       "      <th>2012-10-03 00:00:00-07:00</th>\n",
       "      <td>1760.0</td>\n",
       "      <td>1761.0</td>\n",
       "    </tr>\n",
       "    <tr>\n",
       "      <th>2012-10-04 00:00:00-07:00</th>\n",
       "      <td>1708.0</td>\n",
       "      <td>1767.0</td>\n",
       "    </tr>\n",
       "    <tr>\n",
       "      <th>2012-10-05 00:00:00-07:00</th>\n",
       "      <td>1558.0</td>\n",
       "      <td>1590.0</td>\n",
       "    </tr>\n",
       "    <tr>\n",
       "      <th>2012-10-06 00:00:00-07:00</th>\n",
       "      <td>1080.0</td>\n",
       "      <td>926.0</td>\n",
       "    </tr>\n",
       "    <tr>\n",
       "      <th>2012-10-07 00:00:00-07:00</th>\n",
       "      <td>1191.0</td>\n",
       "      <td>951.0</td>\n",
       "    </tr>\n",
       "  </tbody>\n",
       "</table>\n",
       "</div>"
      ],
      "text/plain": [
       "                           EastSide  WestSide\n",
       "Date                                         \n",
       "2012-10-03 00:00:00-07:00    1760.0    1761.0\n",
       "2012-10-04 00:00:00-07:00    1708.0    1767.0\n",
       "2012-10-05 00:00:00-07:00    1558.0    1590.0\n",
       "2012-10-06 00:00:00-07:00    1080.0     926.0\n",
       "2012-10-07 00:00:00-07:00    1191.0     951.0"
      ]
     },
     "execution_count": 6,
     "metadata": {},
     "output_type": "execute_result"
    }
   ],
   "source": [
    "fremont_d = fremont.resample('D').sum()\n",
    "fremont_d.head()"
   ]
  },
  {
   "cell_type": "code",
   "execution_count": 104,
   "metadata": {},
   "outputs": [
    {
     "data": {
      "text/html": [
       "<div>\n",
       "<style scoped>\n",
       "    .dataframe tbody tr th:only-of-type {\n",
       "        vertical-align: middle;\n",
       "    }\n",
       "\n",
       "    .dataframe tbody tr th {\n",
       "        vertical-align: top;\n",
       "    }\n",
       "\n",
       "    .dataframe thead th {\n",
       "        text-align: right;\n",
       "    }\n",
       "</style>\n",
       "<table border=\"1\" class=\"dataframe\">\n",
       "  <thead>\n",
       "    <tr style=\"text-align: right;\">\n",
       "      <th></th>\n",
       "      <th>BG_All</th>\n",
       "      <th>Ped_South</th>\n",
       "      <th>Ped_North</th>\n",
       "      <th>Bike_North</th>\n",
       "      <th>Bike_South</th>\n",
       "    </tr>\n",
       "    <tr>\n",
       "      <th>Date</th>\n",
       "      <th></th>\n",
       "      <th></th>\n",
       "      <th></th>\n",
       "      <th></th>\n",
       "      <th></th>\n",
       "    </tr>\n",
       "  </thead>\n",
       "  <tbody>\n",
       "    <tr>\n",
       "      <th>2019-04-30 23:00:00-07:00</th>\n",
       "      <td>1.0</td>\n",
       "      <td>0.0</td>\n",
       "      <td>0.0</td>\n",
       "      <td>0.0</td>\n",
       "      <td>1.0</td>\n",
       "    </tr>\n",
       "    <tr>\n",
       "      <th>2019-04-30 22:00:00-07:00</th>\n",
       "      <td>8.0</td>\n",
       "      <td>0.0</td>\n",
       "      <td>2.0</td>\n",
       "      <td>2.0</td>\n",
       "      <td>4.0</td>\n",
       "    </tr>\n",
       "    <tr>\n",
       "      <th>2019-04-30 21:00:00-07:00</th>\n",
       "      <td>12.0</td>\n",
       "      <td>3.0</td>\n",
       "      <td>1.0</td>\n",
       "      <td>6.0</td>\n",
       "      <td>2.0</td>\n",
       "    </tr>\n",
       "    <tr>\n",
       "      <th>2019-04-30 20:00:00-07:00</th>\n",
       "      <td>50.0</td>\n",
       "      <td>8.0</td>\n",
       "      <td>11.0</td>\n",
       "      <td>7.0</td>\n",
       "      <td>24.0</td>\n",
       "    </tr>\n",
       "    <tr>\n",
       "      <th>2019-04-30 19:00:00-07:00</th>\n",
       "      <td>120.0</td>\n",
       "      <td>17.0</td>\n",
       "      <td>22.0</td>\n",
       "      <td>36.0</td>\n",
       "      <td>45.0</td>\n",
       "    </tr>\n",
       "    <tr>\n",
       "      <th>2019-04-30 18:00:00-07:00</th>\n",
       "      <td>185.0</td>\n",
       "      <td>22.0</td>\n",
       "      <td>22.0</td>\n",
       "      <td>43.0</td>\n",
       "      <td>98.0</td>\n",
       "    </tr>\n",
       "    <tr>\n",
       "      <th>2019-04-30 17:00:00-07:00</th>\n",
       "      <td>270.0</td>\n",
       "      <td>30.0</td>\n",
       "      <td>25.0</td>\n",
       "      <td>53.0</td>\n",
       "      <td>162.0</td>\n",
       "    </tr>\n",
       "    <tr>\n",
       "      <th>2019-04-30 16:00:00-07:00</th>\n",
       "      <td>189.0</td>\n",
       "      <td>19.0</td>\n",
       "      <td>21.0</td>\n",
       "      <td>47.0</td>\n",
       "      <td>102.0</td>\n",
       "    </tr>\n",
       "    <tr>\n",
       "      <th>2019-04-30 15:00:00-07:00</th>\n",
       "      <td>138.0</td>\n",
       "      <td>11.0</td>\n",
       "      <td>18.0</td>\n",
       "      <td>53.0</td>\n",
       "      <td>56.0</td>\n",
       "    </tr>\n",
       "    <tr>\n",
       "      <th>2019-04-30 14:00:00-07:00</th>\n",
       "      <td>116.0</td>\n",
       "      <td>10.0</td>\n",
       "      <td>22.0</td>\n",
       "      <td>39.0</td>\n",
       "      <td>45.0</td>\n",
       "    </tr>\n",
       "  </tbody>\n",
       "</table>\n",
       "</div>"
      ],
      "text/plain": [
       "                           BG_All  Ped_South  Ped_North  Bike_North  \\\n",
       "Date                                                                  \n",
       "2019-04-30 23:00:00-07:00     1.0        0.0        0.0         0.0   \n",
       "2019-04-30 22:00:00-07:00     8.0        0.0        2.0         2.0   \n",
       "2019-04-30 21:00:00-07:00    12.0        3.0        1.0         6.0   \n",
       "2019-04-30 20:00:00-07:00    50.0        8.0       11.0         7.0   \n",
       "2019-04-30 19:00:00-07:00   120.0       17.0       22.0        36.0   \n",
       "2019-04-30 18:00:00-07:00   185.0       22.0       22.0        43.0   \n",
       "2019-04-30 17:00:00-07:00   270.0       30.0       25.0        53.0   \n",
       "2019-04-30 16:00:00-07:00   189.0       19.0       21.0        47.0   \n",
       "2019-04-30 15:00:00-07:00   138.0       11.0       18.0        53.0   \n",
       "2019-04-30 14:00:00-07:00   116.0       10.0       22.0        39.0   \n",
       "\n",
       "                           Bike_South  \n",
       "Date                                   \n",
       "2019-04-30 23:00:00-07:00         1.0  \n",
       "2019-04-30 22:00:00-07:00         4.0  \n",
       "2019-04-30 21:00:00-07:00         2.0  \n",
       "2019-04-30 20:00:00-07:00        24.0  \n",
       "2019-04-30 19:00:00-07:00        45.0  \n",
       "2019-04-30 18:00:00-07:00        98.0  \n",
       "2019-04-30 17:00:00-07:00       162.0  \n",
       "2019-04-30 16:00:00-07:00       102.0  \n",
       "2019-04-30 15:00:00-07:00        56.0  \n",
       "2019-04-30 14:00:00-07:00        45.0  "
      ]
     },
     "execution_count": 104,
     "metadata": {},
     "output_type": "execute_result"
    }
   ],
   "source": [
    "bg ='./Data/Bike_Counts/BG_North.csv'\n",
    "burke = pd.read_csv(bg,parse_dates = [0],index_col='Date')\n",
    "burke.rename(columns = {'BGT North of NE 70th Total' : 'BG_All',\n",
    "                         'Ped South':'Ped_South',\n",
    "                         'Ped North':'Ped_North',\n",
    "                         'Bike North':'Bike_North',\n",
    "                         'Bike South': 'Bike_South'} , inplace= True)\n",
    "\n",
    "burke = burke.tz_localize(pac,ambiguous = True, nonexistent = 'shift_forward')\n",
    "burke.head(10)"
   ]
  },
  {
   "cell_type": "code",
   "execution_count": 105,
   "metadata": {
    "scrolled": true
   },
   "outputs": [
    {
     "data": {
      "text/html": [
       "<div>\n",
       "<style scoped>\n",
       "    .dataframe tbody tr th:only-of-type {\n",
       "        vertical-align: middle;\n",
       "    }\n",
       "\n",
       "    .dataframe tbody tr th {\n",
       "        vertical-align: top;\n",
       "    }\n",
       "\n",
       "    .dataframe thead th {\n",
       "        text-align: right;\n",
       "    }\n",
       "</style>\n",
       "<table border=\"1\" class=\"dataframe\">\n",
       "  <thead>\n",
       "    <tr style=\"text-align: right;\">\n",
       "      <th></th>\n",
       "      <th>EB_All</th>\n",
       "      <th>Ped_North</th>\n",
       "      <th>Ped_South</th>\n",
       "      <th>Bike_North</th>\n",
       "      <th>Bike_South</th>\n",
       "    </tr>\n",
       "    <tr>\n",
       "      <th>Date</th>\n",
       "      <th></th>\n",
       "      <th></th>\n",
       "      <th></th>\n",
       "      <th></th>\n",
       "      <th></th>\n",
       "    </tr>\n",
       "  </thead>\n",
       "  <tbody>\n",
       "    <tr>\n",
       "      <th>2019-04-30 23:00:00-07:00</th>\n",
       "      <td>23.0</td>\n",
       "      <td>7.0</td>\n",
       "      <td>1.0</td>\n",
       "      <td>10.0</td>\n",
       "      <td>5.0</td>\n",
       "    </tr>\n",
       "    <tr>\n",
       "      <th>2019-04-30 22:00:00-07:00</th>\n",
       "      <td>23.0</td>\n",
       "      <td>2.0</td>\n",
       "      <td>3.0</td>\n",
       "      <td>16.0</td>\n",
       "      <td>2.0</td>\n",
       "    </tr>\n",
       "    <tr>\n",
       "      <th>2019-04-30 21:00:00-07:00</th>\n",
       "      <td>61.0</td>\n",
       "      <td>17.0</td>\n",
       "      <td>25.0</td>\n",
       "      <td>12.0</td>\n",
       "      <td>7.0</td>\n",
       "    </tr>\n",
       "    <tr>\n",
       "      <th>2019-04-30 20:00:00-07:00</th>\n",
       "      <td>201.0</td>\n",
       "      <td>68.0</td>\n",
       "      <td>95.0</td>\n",
       "      <td>25.0</td>\n",
       "      <td>13.0</td>\n",
       "    </tr>\n",
       "    <tr>\n",
       "      <th>2019-04-30 19:00:00-07:00</th>\n",
       "      <td>653.0</td>\n",
       "      <td>369.0</td>\n",
       "      <td>179.0</td>\n",
       "      <td>59.0</td>\n",
       "      <td>46.0</td>\n",
       "    </tr>\n",
       "    <tr>\n",
       "      <th>2019-04-30 18:00:00-07:00</th>\n",
       "      <td>1150.0</td>\n",
       "      <td>763.0</td>\n",
       "      <td>222.0</td>\n",
       "      <td>102.0</td>\n",
       "      <td>63.0</td>\n",
       "    </tr>\n",
       "    <tr>\n",
       "      <th>2019-04-30 17:00:00-07:00</th>\n",
       "      <td>1303.0</td>\n",
       "      <td>831.0</td>\n",
       "      <td>161.0</td>\n",
       "      <td>212.0</td>\n",
       "      <td>99.0</td>\n",
       "    </tr>\n",
       "    <tr>\n",
       "      <th>2019-04-30 16:00:00-07:00</th>\n",
       "      <td>1265.0</td>\n",
       "      <td>901.0</td>\n",
       "      <td>156.0</td>\n",
       "      <td>122.0</td>\n",
       "      <td>86.0</td>\n",
       "    </tr>\n",
       "    <tr>\n",
       "      <th>2019-04-30 15:00:00-07:00</th>\n",
       "      <td>1202.0</td>\n",
       "      <td>954.0</td>\n",
       "      <td>130.0</td>\n",
       "      <td>65.0</td>\n",
       "      <td>53.0</td>\n",
       "    </tr>\n",
       "    <tr>\n",
       "      <th>2019-04-30 14:00:00-07:00</th>\n",
       "      <td>711.0</td>\n",
       "      <td>537.0</td>\n",
       "      <td>103.0</td>\n",
       "      <td>33.0</td>\n",
       "      <td>38.0</td>\n",
       "    </tr>\n",
       "  </tbody>\n",
       "</table>\n",
       "</div>"
      ],
      "text/plain": [
       "                           EB_All  Ped_North  Ped_South  Bike_North  \\\n",
       "Date                                                                  \n",
       "2019-04-30 23:00:00-07:00    23.0        7.0        1.0        10.0   \n",
       "2019-04-30 22:00:00-07:00    23.0        2.0        3.0        16.0   \n",
       "2019-04-30 21:00:00-07:00    61.0       17.0       25.0        12.0   \n",
       "2019-04-30 20:00:00-07:00   201.0       68.0       95.0        25.0   \n",
       "2019-04-30 19:00:00-07:00   653.0      369.0      179.0        59.0   \n",
       "2019-04-30 18:00:00-07:00  1150.0      763.0      222.0       102.0   \n",
       "2019-04-30 17:00:00-07:00  1303.0      831.0      161.0       212.0   \n",
       "2019-04-30 16:00:00-07:00  1265.0      901.0      156.0       122.0   \n",
       "2019-04-30 15:00:00-07:00  1202.0      954.0      130.0        65.0   \n",
       "2019-04-30 14:00:00-07:00   711.0      537.0      103.0        33.0   \n",
       "\n",
       "                           Bike_South  \n",
       "Date                                   \n",
       "2019-04-30 23:00:00-07:00         5.0  \n",
       "2019-04-30 22:00:00-07:00         2.0  \n",
       "2019-04-30 21:00:00-07:00         7.0  \n",
       "2019-04-30 20:00:00-07:00        13.0  \n",
       "2019-04-30 19:00:00-07:00        46.0  \n",
       "2019-04-30 18:00:00-07:00        63.0  \n",
       "2019-04-30 17:00:00-07:00        99.0  \n",
       "2019-04-30 16:00:00-07:00        86.0  \n",
       "2019-04-30 15:00:00-07:00        53.0  \n",
       "2019-04-30 14:00:00-07:00        38.0  "
      ]
     },
     "execution_count": 105,
     "metadata": {},
     "output_type": "execute_result"
    }
   ],
   "source": [
    "el ='./Data/Bike_Counts/Elliott_Bay.csv'\n",
    "elliott = pd.read_csv(el,parse_dates = [0],index_col='Date')\n",
    "elliott.rename(columns = {'Elliott Bay Trail in Myrtle Edwards Park Total' : 'EB_All',\n",
    "                         'Ped South':'Ped_South',\n",
    "                         'Ped North':'Ped_North',\n",
    "                         'Bike North':'Bike_North',\n",
    "                         'Bike South': 'Bike_South'} , inplace= True)\n",
    "\n",
    "elliott = elliott.tz_localize(pac,ambiguous = True, nonexistent = 'shift_forward')\n",
    "elliott.head(10)"
   ]
  },
  {
   "cell_type": "code",
   "execution_count": 10,
   "metadata": {},
   "outputs": [
    {
     "data": {
      "text/plain": [
       "<matplotlib.axes._subplots.AxesSubplot at 0x9cb1390>"
      ]
     },
     "execution_count": 10,
     "metadata": {},
     "output_type": "execute_result"
    },
    {
     "data": {
      "image/png": "[encoded data removed]",
      "text/plain": [
       "<Figure size 432x288 with 1 Axes>"
      ]
     },
     "metadata": {
      "needs_background": "light"
     },
     "output_type": "display_data"
    }
   ],
   "source": [
    "data= bridge[['EastSide','WestSide']]\n",
    "data.plot(kind ='box',showfliers = False)"
   ]
  },
  {
   "cell_type": "code",
   "execution_count": 22,
   "metadata": {},
   "outputs": [
    {
     "data": {
      "text/plain": [
       "<matplotlib.axes._subplots.AxesSubplot at 0xc07f240>"
      ]
     },
     "execution_count": 22,
     "metadata": {},
     "output_type": "execute_result"
    },
    {
     "data": {
      "image/png": "[encoded data removed]",
      "text/plain": [
       "<Figure size 576x432 with 1 Axes>"
      ]
     },
     "metadata": {
      "needs_background": "light"
     },
     "output_type": "display_data"
    }
   ],
   "source": [
    "bridge['WestSide'].plot.hist(figsize=(8,6),bins = 10)"
   ]
  },
  {
   "cell_type": "code",
   "execution_count": 5,
   "metadata": {},
   "outputs": [
    {
     "data": {
      "text/plain": [
       "67.36744877158993"
      ]
     },
     "execution_count": 5,
     "metadata": {},
     "output_type": "execute_result"
    }
   ],
   "source": [
    "#mean squqred error\n",
    "y = bridge['EastSide']\n",
    "y_pred = y.mean()\n",
    "mse = np.mean(np.square(y-y_pred))\n",
    "np.sqrt(mse) #model was performing \"this\" far away from the prediction"
   ]
  },
  {
   "cell_type": "code",
   "execution_count": 14,
   "metadata": {},
   "outputs": [
    {
     "data": {
      "text/html": [
       "<div>\n",
       "<style scoped>\n",
       "    .dataframe tbody tr th:only-of-type {\n",
       "        vertical-align: middle;\n",
       "    }\n",
       "\n",
       "    .dataframe tbody tr th {\n",
       "        vertical-align: top;\n",
       "    }\n",
       "\n",
       "    .dataframe thead th {\n",
       "        text-align: right;\n",
       "    }\n",
       "</style>\n",
       "<table border=\"1\" class=\"dataframe\">\n",
       "  <thead>\n",
       "    <tr style=\"text-align: right;\">\n",
       "      <th></th>\n",
       "      <th>Date_Join</th>\n",
       "      <th>EastSide</th>\n",
       "      <th>WestSide</th>\n",
       "    </tr>\n",
       "  </thead>\n",
       "  <tbody>\n",
       "    <tr>\n",
       "      <th>30335</th>\n",
       "      <td>2015-11-14</td>\n",
       "      <td>2.0</td>\n",
       "      <td>4.0</td>\n",
       "    </tr>\n",
       "  </tbody>\n",
       "</table>\n",
       "</div>"
      ],
      "text/plain": [
       "       Date_Join  EastSide  WestSide\n",
       "30335 2015-11-14       2.0       4.0"
      ]
     },
     "execution_count": 14,
     "metadata": {},
     "output_type": "execute_result"
    }
   ],
   "source": [
    "bridge[bridge['Date_Join'] == '2015-11-14']"
   ]
  },
  {
   "cell_type": "code",
   "execution_count": null,
   "metadata": {},
   "outputs": [],
   "source": []
  }
 ],
 "metadata": {
  "kernelspec": {
   "display_name": "Python 3",
   "language": "python",
   "name": "python3"
  },
  "language_info": {
   "codemirror_mode": {
    "name": "ipython",
    "version": 3
   },
   "file_extension": ".py",
   "mimetype": "text/x-python",
   "name": "python",
   "nbconvert_exporter": "python",
   "pygments_lexer": "ipython3",
   "version": "3.7.3"
  }
 },
 "nbformat": 4,
 "nbformat_minor": 2
}
